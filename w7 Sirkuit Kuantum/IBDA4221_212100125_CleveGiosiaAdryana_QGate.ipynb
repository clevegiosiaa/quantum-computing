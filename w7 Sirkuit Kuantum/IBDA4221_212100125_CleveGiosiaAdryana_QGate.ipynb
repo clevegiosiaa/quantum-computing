{
  "cells": [
    {
      "cell_type": "markdown",
      "id": "71f71291",
      "metadata": {
        "id": "71f71291"
      },
      "source": [
        "# QGate\n",
        "Dengan menggunakan Qiskit, buatlah sirkuit kuantum yang merepresentasikan state pada soal. Tidak boleh melakukan inisiasi tertentu pada state awal (semua state awal berada pada qubit 0). State hanya dapat diubah menggunakan gate kuantum."
      ]
    },
    {
      "cell_type": "markdown",
      "id": "7970d908",
      "metadata": {
        "id": "7970d908"
      },
      "source": [
        "(Contoh) Dengan menggunakan Qiskit, buat sebuah QuantumCircuit yang merepresentasikan state berikut:\n",
        "$$\\newcommand{\\ket}[1]{\\left|{#1}\\right\\rangle}$$\n",
        "$$\\newcommand{\\bra}[1]{\\left\\langle{#1}\\right|}$$\n",
        "$$\\ket{1}$$\n"
      ]
    },
    {
      "cell_type": "code",
      "execution_count": 1,
      "id": "f63cfcf5",
      "metadata": {
        "colab": {
          "base_uri": "https://localhost:8080/",
          "height": 63
        },
        "id": "f63cfcf5",
        "outputId": "ddb9069f-0dbf-46a6-ce54-62f9f971def9"
      },
      "outputs": [
        {
          "data": {
            "image/png": "[encoded data removed]",
            "text/plain": [
              "<Figure size 185.453x117.056 with 1 Axes>"
            ]
          },
          "execution_count": 1,
          "metadata": {},
          "output_type": "execute_result"
        }
      ],
      "source": [
        "from qiskit import *\n",
        "\n",
        "qc = QuantumCircuit(1)\n",
        "\n",
        "qc.x(0)\n",
        "qc.draw(output='mpl')"
      ]
    },
    {
      "cell_type": "markdown",
      "id": "212ec2ab",
      "metadata": {
        "id": "212ec2ab"
      },
      "source": [
        "(Contoh) Dengan menggunakan Qiskit, buat sebuah QuantumCircuit yang merepresentasikan state berikut:\n",
        "$$\\newcommand{\\ket}[1]{\\left|{#1}\\right\\rangle}$$\n",
        "$$\\newcommand{\\bra}[1]{\\left\\langle{#1}\\right|}$$\n",
        "$$\\frac{1}{\\sqrt{2}}(\\ket{00}+\\ket{11})$$\n"
      ]
    },
    {
      "cell_type": "code",
      "execution_count": 2,
      "id": "02e434e6",
      "metadata": {
        "colab": {
          "base_uri": "https://localhost:8080/",
          "height": 94
        },
        "id": "02e434e6",
        "outputId": "5aa6abee-bde2-4280-9389-75f1f52fe492"
      },
      "outputs": [
        {
          "data": {
            "image/png": "[encoded data removed]",
            "text/plain": [
              "<Figure size 287.294x200.667 with 1 Axes>"
            ]
          },
          "execution_count": 2,
          "metadata": {},
          "output_type": "execute_result"
        }
      ],
      "source": [
        "from qiskit import *\n",
        "\n",
        "qc = QuantumCircuit(2)\n",
        "\n",
        "qc.h(0)\n",
        "qc.cx(0,1)\n",
        "qc.draw(output='mpl')"
      ]
    },
    {
      "cell_type": "markdown",
      "id": "f5165685",
      "metadata": {
        "id": "f5165685"
      },
      "source": [
        "Dengan menggunakan Qiskit, buat sebuah QuantumCircuit yang merepresentasikan state berikut:\n",
        "$$\\newcommand{\\ket}[1]{\\left|{#1}\\right\\rangle}$$\n",
        "$$\\newcommand{\\bra}[1]{\\left\\langle{#1}\\right|}$$\n",
        "$$\\frac{1}{\\sqrt{2}}(\\ket{1}+\\ket{0})$$\n"
      ]
    },
    {
      "cell_type": "code",
      "execution_count": 3,
      "id": "7e12aefb",
      "metadata": {
        "colab": {
          "base_uri": "https://localhost:8080/",
          "height": 63
        },
        "id": "7e12aefb",
        "outputId": "c79a92dd-18be-4f7e-d935-65bfb527836f"
      },
      "outputs": [
        {
          "data": {
            "image/png": "[encoded data removed]",
            "text/plain": [
              "<Figure size 185.453x117.056 with 1 Axes>"
            ]
          },
          "execution_count": 3,
          "metadata": {},
          "output_type": "execute_result"
        }
      ],
      "source": [
        "from qiskit import *\n",
        "\n",
        "qc = QuantumCircuit(1)\n",
        "\n",
        "# Tulis code jawaban di sini\n",
        "qc.h(0)\n",
        "\n",
        "qc.draw(output='mpl')"
      ]
    },
    {
      "cell_type": "markdown",
      "id": "36e6029f",
      "metadata": {
        "id": "36e6029f"
      },
      "source": [
        "Dengan menggunakan Qiskit, buat sebuah QuantumCircuit yang merepresentasikan state berikut:\n",
        "$$\\newcommand{\\ket}[1]{\\left|{#1}\\right\\rangle}$$\n",
        "$$\\newcommand{\\bra}[1]{\\left\\langle{#1}\\right|}$$\n",
        "$$\\frac{1}{\\sqrt{2}}(\\ket{0}-\\ket{1})$$\n"
      ]
    },
    {
      "cell_type": "code",
      "execution_count": 4,
      "id": "f4605a13",
      "metadata": {
        "colab": {
          "base_uri": "https://localhost:8080/",
          "height": 63
        },
        "id": "f4605a13",
        "outputId": "c45e9935-cd0a-446d-c086-57baff4cbb0c"
      },
      "outputs": [
        {
          "data": {
            "image/png": "[encoded data removed]",
            "text/plain": [
              "<Figure size 269.064x117.056 with 1 Axes>"
            ]
          },
          "execution_count": 4,
          "metadata": {},
          "output_type": "execute_result"
        }
      ],
      "source": [
        "from qiskit import *\n",
        "\n",
        "qc = QuantumCircuit(1)\n",
        "\n",
        "# Tulis code jawaban di sini\n",
        "qc.x(0)\n",
        "qc.h(0)\n",
        "\n",
        "qc.draw(output='mpl')"
      ]
    },
    {
      "cell_type": "markdown",
      "id": "6b5aab68",
      "metadata": {
        "id": "6b5aab68"
      },
      "source": [
        "Dengan menggunakan Qiskit, buat sebuah QuantumCircuit yang merepresentasikan state berikut:\n",
        "$$\\newcommand{\\ket}[1]{\\left|{#1}\\right\\rangle}$$\n",
        "$$\\newcommand{\\bra}[1]{\\left\\langle{#1}\\right|}$$\n",
        "$$\\frac{1}{\\sqrt{2}}(-i\\ket{0}+i\\ket{1})$$\n"
      ]
    },
    {
      "cell_type": "code",
      "execution_count": 5,
      "id": "d8d42326",
      "metadata": {
        "colab": {
          "base_uri": "https://localhost:8080/",
          "height": 94
        },
        "id": "d8d42326",
        "outputId": "b46d02ee-0578-487a-986a-3d481bf886f2"
      },
      "outputs": [
        {
          "data": {
            "image/png": "[encoded data removed]",
            "text/plain": [
              "<Figure size 436.286x117.056 with 1 Axes>"
            ]
          },
          "execution_count": 5,
          "metadata": {},
          "output_type": "execute_result"
        }
      ],
      "source": [
        "from qiskit import *\n",
        "\n",
        "qc = QuantumCircuit(1)\n",
        "\n",
        "# Tulis code jawaban di sini\n",
        "qc.x(0)\n",
        "qc.h(0)\n",
        "qc.z(0)\n",
        "qc.y(0)\n",
        "\n",
        "qc.draw(output='mpl')"
      ]
    },
    {
      "cell_type": "markdown",
      "id": "33de2d15",
      "metadata": {
        "id": "33de2d15"
      },
      "source": [
        "Dengan menggunakan Qiskit, buat sebuah QuantumCircuit yang merepresentasikan state berikut:\n",
        "$$\\newcommand{\\ket}[1]{\\left|{#1}\\right\\rangle}$$\n",
        "$$\\newcommand{\\bra}[1]{\\left\\langle{#1}\\right|}$$\n",
        "$$\\ket{10}$$\n"
      ]
    },
    {
      "cell_type": "code",
      "execution_count": 6,
      "id": "a199d6f5",
      "metadata": {
        "colab": {
          "base_uri": "https://localhost:8080/",
          "height": 94
        },
        "id": "a199d6f5",
        "outputId": "9364cde6-bb29-4f53-e34e-3ed6847fa84e"
      },
      "outputs": [
        {
          "data": {
            "image/png": "[encoded data removed]",
            "text/plain": [
              "<Figure size 203.683x200.667 with 1 Axes>"
            ]
          },
          "execution_count": 6,
          "metadata": {},
          "output_type": "execute_result"
        }
      ],
      "source": [
        "from qiskit import *\n",
        "\n",
        "qc = QuantumCircuit(2)\n",
        "\n",
        "# Tulis code jawaban di sini\n",
        "qc.x(1)\n",
        "\n",
        "qc.draw(output='mpl')"
      ]
    },
    {
      "cell_type": "markdown",
      "id": "0fc65160",
      "metadata": {
        "id": "0fc65160"
      },
      "source": [
        "Dengan menggunakan Qiskit, buat sebuah QuantumCircuit yang merepresentasikan state berikut:\n",
        "$$\\newcommand{\\ket}[1]{\\left|{#1}\\right\\rangle}$$\n",
        "$$\\newcommand{\\bra}[1]{\\left\\langle{#1}\\right|}$$\n",
        "$$i\\ket{11}$$\n"
      ]
    },
    {
      "cell_type": "code",
      "execution_count": 7,
      "id": "45f5896b",
      "metadata": {
        "colab": {
          "base_uri": "https://localhost:8080/",
          "height": 94
        },
        "id": "45f5896b",
        "outputId": "c2ab6fae-f600-4174-d9b7-085ef02d49c4"
      },
      "outputs": [
        {
          "data": {
            "image/png": "[encoded data removed]",
            "text/plain": [
              "<Figure size 203.683x200.667 with 1 Axes>"
            ]
          },
          "execution_count": 7,
          "metadata": {},
          "output_type": "execute_result"
        }
      ],
      "source": [
        "from qiskit import *\n",
        "\n",
        "qc = QuantumCircuit(2)\n",
        "\n",
        "# Tulis code jawaban di sini\n",
        "qc.y(0)\n",
        "qc.x(1)\n",
        "\n",
        "qc.draw(output='mpl')"
      ]
    },
    {
      "cell_type": "markdown",
      "id": "0bfa61ea",
      "metadata": {
        "id": "0bfa61ea"
      },
      "source": [
        "Dengan menggunakan Qiskit, buat sebuah QuantumCircuit yang merepresentasikan state berikut:\n",
        "$$\\newcommand{\\ket}[1]{\\left|{#1}\\right\\rangle}$$\n",
        "$$\\newcommand{\\bra}[1]{\\left\\langle{#1}\\right|}$$\n",
        "$$\\frac{1}{\\sqrt{2}}(\\ket{00}+\\ket{10})$$\n"
      ]
    },
    {
      "cell_type": "code",
      "execution_count": 8,
      "id": "3b00d4d5",
      "metadata": {
        "colab": {
          "base_uri": "https://localhost:8080/",
          "height": 94
        },
        "id": "3b00d4d5",
        "outputId": "5c44cf34-e96c-4304-dda7-b1d7bcdf4525"
      },
      "outputs": [
        {
          "data": {
            "image/png": "[encoded data removed]",
            "text/plain": [
              "<Figure size 203.683x200.667 with 1 Axes>"
            ]
          },
          "execution_count": 8,
          "metadata": {},
          "output_type": "execute_result"
        }
      ],
      "source": [
        "from qiskit import *\n",
        "\n",
        "qc = QuantumCircuit(2)\n",
        "\n",
        "# Tulis code jawaban di sini\n",
        "qc.h(1)\n",
        "\n",
        "qc.draw(output='mpl')"
      ]
    },
    {
      "cell_type": "markdown",
      "id": "0ff3d749",
      "metadata": {
        "id": "0ff3d749"
      },
      "source": [
        "Dengan menggunakan Qiskit, buat sebuah QuantumCircuit yang merepresentasikan state berikut:\n",
        "$$\\newcommand{\\ket}[1]{\\left|{#1}\\right\\rangle}$$\n",
        "$$\\newcommand{\\bra}[1]{\\left\\langle{#1}\\right|}$$\n",
        "$$\\frac{1}{\\sqrt{2}}(\\ket{00}-\\ket{11})$$\n"
      ]
    },
    {
      "cell_type": "code",
      "execution_count": 9,
      "id": "04d49523",
      "metadata": {
        "colab": {
          "base_uri": "https://localhost:8080/",
          "height": 94
        },
        "id": "04d49523",
        "outputId": "dd6b12bf-25ac-4447-a35e-6f562bdb51c7"
      },
      "outputs": [
        {
          "data": {
            "image/png": "[encoded data removed]",
            "text/plain": [
              "<Figure size 370.906x200.667 with 1 Axes>"
            ]
          },
          "execution_count": 9,
          "metadata": {},
          "output_type": "execute_result"
        }
      ],
      "source": [
        "from qiskit import *\n",
        "\n",
        "qc = QuantumCircuit(2)\n",
        "\n",
        "# Tulis code jawaban di sini\n",
        "qc.x(0)\n",
        "qc.h(0)\n",
        "qc.cx(0, 1)\n",
        "\n",
        "qc.draw(output='mpl')"
      ]
    },
    {
      "cell_type": "markdown",
      "id": "8ff06244",
      "metadata": {
        "id": "8ff06244"
      },
      "source": [
        "Dengan menggunakan Qiskit, buat sebuah QuantumCircuit yang merepresentasikan state berikut:\n",
        "$$\\newcommand{\\ket}[1]{\\left|{#1}\\right\\rangle}$$\n",
        "$$\\newcommand{\\bra}[1]{\\left\\langle{#1}\\right|}$$\n",
        "$$\\frac{1}{\\sqrt{2}}(\\ket{01}-\\ket{10})$$\n"
      ]
    },
    {
      "cell_type": "code",
      "execution_count": 10,
      "id": "a45e44b9",
      "metadata": {
        "colab": {
          "base_uri": "https://localhost:8080/",
          "height": 94
        },
        "id": "a45e44b9",
        "outputId": "e99cc12e-2d48-4a76-dfc7-208ea2ae4a9a"
      },
      "outputs": [
        {
          "data": {
            "image/png": "[encoded data removed]",
            "text/plain": [
              "<Figure size 370.906x200.667 with 1 Axes>"
            ]
          },
          "execution_count": 10,
          "metadata": {},
          "output_type": "execute_result"
        }
      ],
      "source": [
        "from qiskit import *\n",
        "\n",
        "qc = QuantumCircuit(2)\n",
        "\n",
        "# Tulis code jawaban di sini\n",
        "qc.x(0)\n",
        "qc.h(0)\n",
        "qc.x(1)\n",
        "qc.cx(0, 1)\n",
        "\n",
        "qc.draw(output='mpl')"
      ]
    },
    {
      "cell_type": "markdown",
      "id": "246cf99e",
      "metadata": {
        "id": "246cf99e"
      },
      "source": [
        "Dengan menggunakan Qiskit, buat sebuah QuantumCircuit yang merepresentasikan state berikut:\n",
        "$$\\newcommand{\\ket}[1]{\\left|{#1}\\right\\rangle}$$\n",
        "$$\\newcommand{\\bra}[1]{\\left\\langle{#1}\\right|}$$\n",
        "$$\\frac{1}{2}(\\ket{00}+\\ket{01}+\\ket{10}-\\ket{11})$$\n"
      ]
    },
    {
      "cell_type": "code",
      "execution_count": 11,
      "id": "b28666c9",
      "metadata": {
        "colab": {
          "base_uri": "https://localhost:8080/",
          "height": 94
        },
        "id": "b28666c9",
        "outputId": "232bb7a9-291a-40e5-c4ae-73848be75624"
      },
      "outputs": [
        {
          "data": {
            "image/png": "[encoded data removed]",
            "text/plain": [
              "<Figure size 287.294x200.667 with 1 Axes>"
            ]
          },
          "execution_count": 11,
          "metadata": {},
          "output_type": "execute_result"
        }
      ],
      "source": [
        "from qiskit import *\n",
        "\n",
        "qc = QuantumCircuit(2)\n",
        "\n",
        "# Tulis code jawaban di sini\n",
        "qc.h(0)\n",
        "qc.h(1)\n",
        "qc.cz(0, 1)\n",
        "\n",
        "qc.draw(output='mpl')"
      ]
    },
    {
      "cell_type": "markdown",
      "id": "8628bab6",
      "metadata": {
        "id": "8628bab6"
      },
      "source": [
        "Dengan menggunakan Qiskit, buat sebuah QuantumCircuit yang merepresentasikan state berikut:\n",
        "$$\\newcommand{\\ket}[1]{\\left|{#1}\\right\\rangle}$$\n",
        "$$\\newcommand{\\bra}[1]{\\left\\langle{#1}\\right|}$$\n",
        "$$\\frac{1}{\\sqrt{2}}(\\ket{000}+\\ket{111})$$\n"
      ]
    },
    {
      "cell_type": "code",
      "execution_count": 12,
      "id": "f4d0faef",
      "metadata": {
        "colab": {
          "base_uri": "https://localhost:8080/",
          "height": 125
        },
        "id": "f4d0faef",
        "outputId": "2e33e38a-080a-42cd-f582-957280c07ba0"
      },
      "outputs": [
        {
          "data": {
            "image/png": "[encoded data removed]",
            "text/plain": [
              "<Figure size 371.107x284.278 with 1 Axes>"
            ]
          },
          "execution_count": 12,
          "metadata": {},
          "output_type": "execute_result"
        }
      ],
      "source": [
        "from qiskit import *\n",
        "\n",
        "qc = QuantumCircuit(3)\n",
        "\n",
        "# Tulis code jawaban di sini\n",
        "qc.h(0)\n",
        "qc.cx(0, 1)\n",
        "qc.cx(1, 2)\n",
        "\n",
        "qc.draw(output='mpl')"
      ]
    }
  ],
  "metadata": {
    "colab": {
      "provenance": []
    },
    "kernelspec": {
      "display_name": "Python 3 (ipykernel)",
      "language": "python",
      "name": "python3"
    },
    "language_info": {
      "codemirror_mode": {
        "name": "ipython",
        "version": 3
      },
      "file_extension": ".py",
      "mimetype": "text/x-python",
      "name": "python",
      "nbconvert_exporter": "python",
      "pygments_lexer": "ipython3",
      "version": "3.7.16"
    },
    "nbTranslate": {
      "displayLangs": [
        "*"
      ],
      "hotkey": "alt-t",
      "langInMainMenu": true,
      "sourceLang": "en",
      "targetLang": "fr",
      "useGoogleTranslate": true
    }
  },
  "nbformat": 4,
  "nbformat_minor": 5
}
